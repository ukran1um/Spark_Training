{
 "cells": [
  {
   "cell_type": "code",
   "execution_count": 3,
   "metadata": {
    "collapsed": false
   },
   "outputs": [],
   "source": [
    "import datetime\n",
    "import numpy as np\n",
    "import matplotlib.pyplot as plt\n",
    "\n",
    "try:\n",
    "    from matplotlib.finance import quotes_historical_yahoo\n",
    "except ImportError:\n",
    "    from matplotlib.finance import quotes_historical_yahoo_ochl as quotes_historical_yahoo\n"
   ]
  },
  {
   "cell_type": "markdown",
   "metadata": {},
   "source": [
    "## Step 1: Retrieve the data from Yahoo"
   ]
  },
  {
   "cell_type": "code",
   "execution_count": 4,
   "metadata": {
    "collapsed": false
   },
   "outputs": [
    {
     "name": "stdout",
     "output_type": "stream",
     "text": [
      "['ConocoPhillips' 'American express' 'Raytheon' 'Boeing' 'Apple' 'Pepsi'\n",
      " 'Navistar' 'GlaxoSmithKline' 'Microsoft' 'Kimberly-Clark' 'Ryder' 'SAP'\n",
      " 'Goldman Sachs' 'Colgate-Palmolive' 'Wal-Mart' 'General Electrics' 'Sony'\n",
      " 'Pfizer' 'Amazon' 'Marriott' 'Novartis' 'Coca Cola' '3M' 'Comcast'\n",
      " 'Sanofi-Aventis' 'IBM' 'Chevron' 'Wells Fargo' 'DuPont de Nemours' 'CVS'\n",
      " 'Total' 'Caterpillar' 'Canon' 'Bank of America' 'Walgreen' 'Time Warner'\n",
      " 'Home Depot' 'Disney' 'Texas instruments' 'Valero Energy' 'Ford' 'Toyota'\n",
      " 'Procter Gamble' 'Lookheed Martin' 'Kellogg' 'Honda' 'CitiGroup'\n",
      " 'General Dynamics' 'HP' 'Dell' 'Mitsubishi' 'Xerox' 'Yahoo' 'Exxon'\n",
      " 'JPMorgan Chase' 'Mc Donalds' 'Cisco' 'Northrop Grumman' 'Kraft Foods'\n",
      " 'Unilever']\n"
     ]
    }
   ],
   "source": [
    "# Choose a time period reasonnably calm (not too long ago so that we get\n",
    "# high-tech firms, and before the 2008 crash)\n",
    "d1 = datetime.datetime(2003, 1, 1)\n",
    "d2 = datetime.datetime(2008, 1, 1)\n",
    "\n",
    "# kraft symbol has now changed from KFT to MDLZ in yahoo\n",
    "symbol_dict = {\n",
    "    'TOT': 'Total',\n",
    "    'XOM': 'Exxon',\n",
    "    'CVX': 'Chevron',\n",
    "    'COP': 'ConocoPhillips',\n",
    "    'VLO': 'Valero Energy',\n",
    "    'MSFT': 'Microsoft',\n",
    "    'IBM': 'IBM',\n",
    "    'TWX': 'Time Warner',\n",
    "    'CMCSA': 'Comcast',\n",
    "    'DIS': 'Disney',\n",
    "    'YHOO': 'Yahoo',\n",
    "    'DELL': 'Dell',\n",
    "    'HPQ': 'HP',\n",
    "    'AMZN': 'Amazon',\n",
    "    'TM': 'Toyota',\n",
    "    'CAJ': 'Canon',\n",
    "    'MTU': 'Mitsubishi',\n",
    "    'SNE': 'Sony',\n",
    "    'F': 'Ford',\n",
    "    'HMC': 'Honda',\n",
    "    'NAV': 'Navistar',\n",
    "    'NOC': 'Northrop Grumman',\n",
    "    'BA': 'Boeing',\n",
    "    'KO': 'Coca Cola',\n",
    "    'MMM': '3M',\n",
    "    'MCD': 'Mc Donalds',\n",
    "    'PEP': 'Pepsi',\n",
    "    'MDLZ': 'Kraft Foods',\n",
    "    'K': 'Kellogg',\n",
    "    'UN': 'Unilever',\n",
    "    'MAR': 'Marriott',\n",
    "    'PG': 'Procter Gamble',\n",
    "    'CL': 'Colgate-Palmolive',\n",
    "    'GE': 'General Electrics',\n",
    "    'WFC': 'Wells Fargo',\n",
    "    'JPM': 'JPMorgan Chase',\n",
    "    'C': 'CitiGroup',\n",
    "    'AXP': 'American express',\n",
    "    'BAC': 'Bank of America',\n",
    "    'GS': 'Goldman Sachs',\n",
    "    'AAPL': 'Apple',\n",
    "    'SAP': 'SAP',\n",
    "    'CSCO': 'Cisco',\n",
    "    'TXN': 'Texas instruments',\n",
    "    'XRX': 'Xerox',\n",
    "    'LMT': 'Lookheed Martin',\n",
    "    'WMT': 'Wal-Mart',\n",
    "    'WBA': 'Walgreen',\n",
    "    'HD': 'Home Depot',\n",
    "    'GSK': 'GlaxoSmithKline',\n",
    "    'PFE': 'Pfizer',\n",
    "    'SNY': 'Sanofi-Aventis',\n",
    "    'NVS': 'Novartis',\n",
    "    'KMB': 'Kimberly-Clark',\n",
    "    'R': 'Ryder',\n",
    "    'GD': 'General Dynamics',\n",
    "    'RTN': 'Raytheon',\n",
    "    'CVS': 'CVS',\n",
    "    'CAT': 'Caterpillar',\n",
    "    'DD': 'DuPont de Nemours'}\n",
    "\n",
    "symbols, names = np.array(list(symbol_dict.items())).T\n",
    "print(names)"
   ]
  },
  {
   "cell_type": "code",
   "execution_count": 5,
   "metadata": {
    "collapsed": false
   },
   "outputs": [
    {
     "data": {
      "text/plain": [
       "array([[ 11.831807,  11.848596,  12.071659, ...,  47.962823,  48.222516,\n",
       "         47.773463],\n",
       "       [ 26.273897,  26.367042,  27.291319, ...,  43.731773,  43.509265,\n",
       "         44.519118],\n",
       "       [ 22.101006,  22.115003,  22.387941, ...,  47.808728,  47.847622,\n",
       "         47.414101],\n",
       "       ..., \n",
       "       [ 19.949417,  20.115189,  20.151451, ...,  31.624676,  31.273428,\n",
       "         31.051587],\n",
       "       [ 18.361208,  18.385134,  18.720093, ...,  28.860541,  28.980891,\n",
       "         28.563669],\n",
       "       [ 28.204077,  28.079255,  28.376448, ...,  48.420911,  48.727461,\n",
       "         48.309433]])"
      ]
     },
     "execution_count": 5,
     "metadata": {},
     "output_type": "execute_result"
    }
   ],
   "source": [
    "# Get data from Yahoo\n",
    "quotes = [quotes_historical_yahoo(symbol, d1, d2, asobject=True)\n",
    "          for symbol in symbols]\n",
    "\n",
    "close = np.array([q.close for q in quotes]).astype(np.float)\n",
    "type(quotes)\n",
    "close[0:10]"
   ]
  },
  {
   "cell_type": "code",
   "execution_count": 6,
   "metadata": {
    "collapsed": false
   },
   "outputs": [
    {
     "name": "stdout",
     "output_type": "stream",
     "text": [
      "backup.dat\n"
     ]
    }
   ],
   "source": [
    "# Backup for no internet scenario\n",
    "filename = \"backup.dat\"\n",
    "print(filename)\n",
    "fileobj = open(filename, mode='wb')\n",
    "np.savetxt(filename, close, delimiter=\",\")\n",
    "fileobj.close()"
   ]
  },
  {
   "cell_type": "code",
   "execution_count": 7,
   "metadata": {
    "collapsed": false
   },
   "outputs": [
    {
     "name": "stdout",
     "output_type": "stream",
     "text": [
      "[[ 11.831807  11.848596  12.071659 ...,  47.962823  48.222516  47.773463]\n",
      " [ 26.273897  26.367042  27.291319 ...,  43.731773  43.509265  44.519118]\n",
      " [ 22.101006  22.115003  22.387941 ...,  47.808728  47.847622  47.414101]\n",
      " ..., \n",
      " [ 32.382796  32.253006  32.587216 ...,  56.618485  56.348569  55.858459]\n",
      " [ 17.81961   17.669597  17.510494 ...,  17.121425  17.131824  16.965445]\n",
      " [ 12.794896  12.658473  12.718419 ...,  26.762685  26.929498  26.443562]]\n"
     ]
    },
    {
     "data": {
      "text/plain": [
       "<function close>"
      ]
     },
     "execution_count": 7,
     "metadata": {},
     "output_type": "execute_result"
    }
   ],
   "source": [
    "# Load data from file\n",
    "fileobj2 = open(filename, mode='rb')\n",
    "close = np.genfromtxt(fileobj2,delimiter=\",\")\n",
    "print(close)\n",
    "fileobj2.close"
   ]
  },
  {
   "cell_type": "code",
   "execution_count": 8,
   "metadata": {
    "collapsed": false
   },
   "outputs": [],
   "source": [
    "from pyspark.sql import SQLContext\n",
    "sqlContext = SQLContext(sc)"
   ]
  },
  {
   "cell_type": "markdown",
   "metadata": {},
   "source": [
    "## Step 2: Compute returns"
   ]
  },
  {
   "cell_type": "code",
   "execution_count": 9,
   "metadata": {
    "collapsed": false
   },
   "outputs": [
    {
     "name": "stdout",
     "output_type": "stream",
     "text": [
      "<type 'numpy.ndarray'>\n"
     ]
    }
   ],
   "source": [
    "close = close.T\n",
    "returns = close[:-1] / close[1:] - 1\n",
    "print(type(returns))"
   ]
  },
  {
   "cell_type": "markdown",
   "metadata": {},
   "source": [
    "## Step 3 : Create Data frame"
   ]
  },
  {
   "cell_type": "code",
   "execution_count": 10,
   "metadata": {
    "collapsed": true
   },
   "outputs": [],
   "source": [
    "import pandas as pd"
   ]
  },
  {
   "cell_type": "code",
   "execution_count": 11,
   "metadata": {
    "collapsed": false
   },
   "outputs": [
    {
     "data": {
      "text/html": [
       "<div>\n",
       "<table border=\"1\" class=\"dataframe\">\n",
       "  <thead>\n",
       "    <tr style=\"text-align: right;\">\n",
       "      <th></th>\n",
       "      <th>COP</th>\n",
       "      <th>AXP</th>\n",
       "      <th>RTN</th>\n",
       "      <th>BA</th>\n",
       "      <th>AAPL</th>\n",
       "      <th>PEP</th>\n",
       "      <th>NAV</th>\n",
       "      <th>GSK</th>\n",
       "      <th>MSFT</th>\n",
       "      <th>KMB</th>\n",
       "      <th>...</th>\n",
       "      <th>MTU</th>\n",
       "      <th>XRX</th>\n",
       "      <th>YHOO</th>\n",
       "      <th>XOM</th>\n",
       "      <th>JPM</th>\n",
       "      <th>MCD</th>\n",
       "      <th>CSCO</th>\n",
       "      <th>NOC</th>\n",
       "      <th>MDLZ</th>\n",
       "      <th>UN</th>\n",
       "    </tr>\n",
       "  </thead>\n",
       "  <tbody>\n",
       "    <tr>\n",
       "      <th>0</th>\n",
       "      <td>-0.001417</td>\n",
       "      <td>-0.003533</td>\n",
       "      <td>-0.000633</td>\n",
       "      <td>-0.008777</td>\n",
       "      <td>-0.006712</td>\n",
       "      <td>-0.006913</td>\n",
       "      <td>-0.010204</td>\n",
       "      <td>-0.008241</td>\n",
       "      <td>-0.001301</td>\n",
       "      <td>0.004445</td>\n",
       "      <td>...</td>\n",
       "      <td>-0.009208</td>\n",
       "      <td>-0.014493</td>\n",
       "      <td>-0.027624</td>\n",
       "      <td>-0.000845</td>\n",
       "      <td>-0.019275</td>\n",
       "      <td>0.026675</td>\n",
       "      <td>-0.019410</td>\n",
       "      <td>0.004024</td>\n",
       "      <td>0.008490</td>\n",
       "      <td>0.010777</td>\n",
       "    </tr>\n",
       "    <tr>\n",
       "      <th>1</th>\n",
       "      <td>-0.018478</td>\n",
       "      <td>-0.033867</td>\n",
       "      <td>-0.012191</td>\n",
       "      <td>0.001465</td>\n",
       "      <td>0.000000</td>\n",
       "      <td>0.010242</td>\n",
       "      <td>-0.018490</td>\n",
       "      <td>-0.001799</td>\n",
       "      <td>-0.017893</td>\n",
       "      <td>-0.010473</td>\n",
       "      <td>...</td>\n",
       "      <td>-0.025135</td>\n",
       "      <td>-0.018957</td>\n",
       "      <td>-0.044351</td>\n",
       "      <td>-0.024189</td>\n",
       "      <td>-0.072909</td>\n",
       "      <td>-0.031832</td>\n",
       "      <td>-0.020423</td>\n",
       "      <td>-0.010256</td>\n",
       "      <td>0.009086</td>\n",
       "      <td>-0.004713</td>\n",
       "    </tr>\n",
       "    <tr>\n",
       "      <th>2</th>\n",
       "      <td>0.039017</td>\n",
       "      <td>0.013571</td>\n",
       "      <td>0.018465</td>\n",
       "      <td>0.024925</td>\n",
       "      <td>0.003367</td>\n",
       "      <td>0.018492</td>\n",
       "      <td>-0.003455</td>\n",
       "      <td>0.010127</td>\n",
       "      <td>-0.018459</td>\n",
       "      <td>0.013803</td>\n",
       "      <td>...</td>\n",
       "      <td>0.052930</td>\n",
       "      <td>0.015644</td>\n",
       "      <td>-0.010966</td>\n",
       "      <td>0.034993</td>\n",
       "      <td>0.005029</td>\n",
       "      <td>-0.001200</td>\n",
       "      <td>-0.027397</td>\n",
       "      <td>0.020526</td>\n",
       "      <td>-0.003621</td>\n",
       "      <td>0.012173</td>\n",
       "    </tr>\n",
       "    <tr>\n",
       "      <th>3</th>\n",
       "      <td>0.017861</td>\n",
       "      <td>0.007507</td>\n",
       "      <td>-0.003490</td>\n",
       "      <td>-0.005970</td>\n",
       "      <td>0.020619</td>\n",
       "      <td>-0.012178</td>\n",
       "      <td>0.015199</td>\n",
       "      <td>-0.022092</td>\n",
       "      <td>0.028761</td>\n",
       "      <td>0.013778</td>\n",
       "      <td>...</td>\n",
       "      <td>0.019268</td>\n",
       "      <td>0.004837</td>\n",
       "      <td>0.021333</td>\n",
       "      <td>0.004286</td>\n",
       "      <td>0.039970</td>\n",
       "      <td>-0.010095</td>\n",
       "      <td>0.011080</td>\n",
       "      <td>0.001730</td>\n",
       "      <td>0.001554</td>\n",
       "      <td>-0.003769</td>\n",
       "    </tr>\n",
       "    <tr>\n",
       "      <th>4</th>\n",
       "      <td>-0.008748</td>\n",
       "      <td>-0.020740</td>\n",
       "      <td>0.016446</td>\n",
       "      <td>-0.011799</td>\n",
       "      <td>-0.008856</td>\n",
       "      <td>-0.010199</td>\n",
       "      <td>-0.016104</td>\n",
       "      <td>-0.008809</td>\n",
       "      <td>-0.028131</td>\n",
       "      <td>-0.006417</td>\n",
       "      <td>...</td>\n",
       "      <td>-0.020755</td>\n",
       "      <td>-0.013127</td>\n",
       "      <td>-0.035494</td>\n",
       "      <td>-0.020705</td>\n",
       "      <td>-0.019414</td>\n",
       "      <td>-0.001778</td>\n",
       "      <td>-0.034114</td>\n",
       "      <td>-0.006171</td>\n",
       "      <td>-0.010003</td>\n",
       "      <td>-0.004568</td>\n",
       "    </tr>\n",
       "  </tbody>\n",
       "</table>\n",
       "<p>5 rows × 60 columns</p>\n",
       "</div>"
      ],
      "text/plain": [
       "        COP       AXP       RTN        BA      AAPL       PEP       NAV  \\\n",
       "0 -0.001417 -0.003533 -0.000633 -0.008777 -0.006712 -0.006913 -0.010204   \n",
       "1 -0.018478 -0.033867 -0.012191  0.001465  0.000000  0.010242 -0.018490   \n",
       "2  0.039017  0.013571  0.018465  0.024925  0.003367  0.018492 -0.003455   \n",
       "3  0.017861  0.007507 -0.003490 -0.005970  0.020619 -0.012178  0.015199   \n",
       "4 -0.008748 -0.020740  0.016446 -0.011799 -0.008856 -0.010199 -0.016104   \n",
       "\n",
       "        GSK      MSFT       KMB    ...          MTU       XRX      YHOO  \\\n",
       "0 -0.008241 -0.001301  0.004445    ...    -0.009208 -0.014493 -0.027624   \n",
       "1 -0.001799 -0.017893 -0.010473    ...    -0.025135 -0.018957 -0.044351   \n",
       "2  0.010127 -0.018459  0.013803    ...     0.052930  0.015644 -0.010966   \n",
       "3 -0.022092  0.028761  0.013778    ...     0.019268  0.004837  0.021333   \n",
       "4 -0.008809 -0.028131 -0.006417    ...    -0.020755 -0.013127 -0.035494   \n",
       "\n",
       "        XOM       JPM       MCD      CSCO       NOC      MDLZ        UN  \n",
       "0 -0.000845 -0.019275  0.026675 -0.019410  0.004024  0.008490  0.010777  \n",
       "1 -0.024189 -0.072909 -0.031832 -0.020423 -0.010256  0.009086 -0.004713  \n",
       "2  0.034993  0.005029 -0.001200 -0.027397  0.020526 -0.003621  0.012173  \n",
       "3  0.004286  0.039970 -0.010095  0.011080  0.001730  0.001554 -0.003769  \n",
       "4 -0.020705 -0.019414 -0.001778 -0.034114 -0.006171 -0.010003 -0.004568  \n",
       "\n",
       "[5 rows x 60 columns]"
      ]
     },
     "execution_count": 11,
     "metadata": {},
     "output_type": "execute_result"
    }
   ],
   "source": [
    "df = pd.DataFrame(returns, columns = symbol_dict)\n",
    "df.head()"
   ]
  },
  {
   "cell_type": "markdown",
   "metadata": {},
   "source": [
    "## Step 4 : Compute Correlations and Dissimilarity matrix"
   ]
  },
  {
   "cell_type": "code",
   "execution_count": 12,
   "metadata": {
    "collapsed": false
   },
   "outputs": [
    {
     "data": {
      "text/html": [
       "<div>\n",
       "<table border=\"1\" class=\"dataframe\">\n",
       "  <thead>\n",
       "    <tr style=\"text-align: right;\">\n",
       "      <th></th>\n",
       "      <th>COP</th>\n",
       "      <th>AXP</th>\n",
       "      <th>RTN</th>\n",
       "      <th>BA</th>\n",
       "      <th>AAPL</th>\n",
       "      <th>PEP</th>\n",
       "      <th>NAV</th>\n",
       "      <th>GSK</th>\n",
       "      <th>MSFT</th>\n",
       "      <th>KMB</th>\n",
       "      <th>...</th>\n",
       "      <th>XRX</th>\n",
       "      <th>YHOO</th>\n",
       "      <th>XOM</th>\n",
       "      <th>JPM</th>\n",
       "      <th>MCD</th>\n",
       "      <th>CSCO</th>\n",
       "      <th>NOC</th>\n",
       "      <th>MDLZ</th>\n",
       "      <th>UN</th>\n",
       "      <th>Company</th>\n",
       "    </tr>\n",
       "  </thead>\n",
       "  <tbody>\n",
       "    <tr>\n",
       "      <th>COP</th>\n",
       "      <td>0.000000</td>\n",
       "      <td>0.677778</td>\n",
       "      <td>0.791858</td>\n",
       "      <td>0.745889</td>\n",
       "      <td>0.776606</td>\n",
       "      <td>0.810188</td>\n",
       "      <td>0.777832</td>\n",
       "      <td>0.833621</td>\n",
       "      <td>0.790888</td>\n",
       "      <td>0.784564</td>\n",
       "      <td>...</td>\n",
       "      <td>0.808126</td>\n",
       "      <td>0.825326</td>\n",
       "      <td>0.233509</td>\n",
       "      <td>0.714643</td>\n",
       "      <td>0.856983</td>\n",
       "      <td>0.831557</td>\n",
       "      <td>0.782784</td>\n",
       "      <td>0.858537</td>\n",
       "      <td>0.787320</td>\n",
       "      <td>ConocoPhillips</td>\n",
       "    </tr>\n",
       "    <tr>\n",
       "      <th>AXP</th>\n",
       "      <td>0.677778</td>\n",
       "      <td>0.000000</td>\n",
       "      <td>0.662390</td>\n",
       "      <td>0.613355</td>\n",
       "      <td>0.687350</td>\n",
       "      <td>0.599745</td>\n",
       "      <td>0.617417</td>\n",
       "      <td>0.652975</td>\n",
       "      <td>0.554316</td>\n",
       "      <td>0.599246</td>\n",
       "      <td>...</td>\n",
       "      <td>0.621600</td>\n",
       "      <td>0.695421</td>\n",
       "      <td>0.562185</td>\n",
       "      <td>0.316582</td>\n",
       "      <td>0.645123</td>\n",
       "      <td>0.592243</td>\n",
       "      <td>0.656349</td>\n",
       "      <td>0.726950</td>\n",
       "      <td>0.647759</td>\n",
       "      <td>American express</td>\n",
       "    </tr>\n",
       "    <tr>\n",
       "      <th>RTN</th>\n",
       "      <td>0.791858</td>\n",
       "      <td>0.662390</td>\n",
       "      <td>0.000000</td>\n",
       "      <td>0.535160</td>\n",
       "      <td>0.781740</td>\n",
       "      <td>0.780530</td>\n",
       "      <td>0.707567</td>\n",
       "      <td>0.795584</td>\n",
       "      <td>0.734174</td>\n",
       "      <td>0.698416</td>\n",
       "      <td>...</td>\n",
       "      <td>0.755045</td>\n",
       "      <td>0.833343</td>\n",
       "      <td>0.725928</td>\n",
       "      <td>0.634601</td>\n",
       "      <td>0.783466</td>\n",
       "      <td>0.769820</td>\n",
       "      <td>0.432693</td>\n",
       "      <td>0.791456</td>\n",
       "      <td>0.759210</td>\n",
       "      <td>Raytheon</td>\n",
       "    </tr>\n",
       "    <tr>\n",
       "      <th>BA</th>\n",
       "      <td>0.745889</td>\n",
       "      <td>0.613355</td>\n",
       "      <td>0.535160</td>\n",
       "      <td>0.000000</td>\n",
       "      <td>0.756697</td>\n",
       "      <td>0.731223</td>\n",
       "      <td>0.635720</td>\n",
       "      <td>0.735103</td>\n",
       "      <td>0.692074</td>\n",
       "      <td>0.663448</td>\n",
       "      <td>...</td>\n",
       "      <td>0.709159</td>\n",
       "      <td>0.799253</td>\n",
       "      <td>0.677725</td>\n",
       "      <td>0.587944</td>\n",
       "      <td>0.694031</td>\n",
       "      <td>0.688115</td>\n",
       "      <td>0.553318</td>\n",
       "      <td>0.719469</td>\n",
       "      <td>0.783348</td>\n",
       "      <td>Boeing</td>\n",
       "    </tr>\n",
       "    <tr>\n",
       "      <th>AAPL</th>\n",
       "      <td>0.776606</td>\n",
       "      <td>0.687350</td>\n",
       "      <td>0.781740</td>\n",
       "      <td>0.756697</td>\n",
       "      <td>0.000000</td>\n",
       "      <td>0.819035</td>\n",
       "      <td>0.721385</td>\n",
       "      <td>0.849213</td>\n",
       "      <td>0.666573</td>\n",
       "      <td>0.790416</td>\n",
       "      <td>...</td>\n",
       "      <td>0.742211</td>\n",
       "      <td>0.709198</td>\n",
       "      <td>0.719759</td>\n",
       "      <td>0.682138</td>\n",
       "      <td>0.781909</td>\n",
       "      <td>0.659056</td>\n",
       "      <td>0.790031</td>\n",
       "      <td>0.850695</td>\n",
       "      <td>0.789173</td>\n",
       "      <td>Apple</td>\n",
       "    </tr>\n",
       "    <tr>\n",
       "      <th>PEP</th>\n",
       "      <td>0.810188</td>\n",
       "      <td>0.599745</td>\n",
       "      <td>0.780530</td>\n",
       "      <td>0.731223</td>\n",
       "      <td>0.819035</td>\n",
       "      <td>0.000000</td>\n",
       "      <td>0.768944</td>\n",
       "      <td>0.693988</td>\n",
       "      <td>0.685429</td>\n",
       "      <td>0.649507</td>\n",
       "      <td>...</td>\n",
       "      <td>0.730345</td>\n",
       "      <td>0.794847</td>\n",
       "      <td>0.682358</td>\n",
       "      <td>0.617271</td>\n",
       "      <td>0.771722</td>\n",
       "      <td>0.759850</td>\n",
       "      <td>0.761184</td>\n",
       "      <td>0.695950</td>\n",
       "      <td>0.718995</td>\n",
       "      <td>Pepsi</td>\n",
       "    </tr>\n",
       "    <tr>\n",
       "      <th>NAV</th>\n",
       "      <td>0.777832</td>\n",
       "      <td>0.617417</td>\n",
       "      <td>0.707567</td>\n",
       "      <td>0.635720</td>\n",
       "      <td>0.721385</td>\n",
       "      <td>0.768944</td>\n",
       "      <td>0.000000</td>\n",
       "      <td>0.737049</td>\n",
       "      <td>0.697253</td>\n",
       "      <td>0.733873</td>\n",
       "      <td>...</td>\n",
       "      <td>0.705295</td>\n",
       "      <td>0.735201</td>\n",
       "      <td>0.713090</td>\n",
       "      <td>0.591745</td>\n",
       "      <td>0.751651</td>\n",
       "      <td>0.711070</td>\n",
       "      <td>0.759652</td>\n",
       "      <td>0.830355</td>\n",
       "      <td>0.757356</td>\n",
       "      <td>Navistar</td>\n",
       "    </tr>\n",
       "    <tr>\n",
       "      <th>GSK</th>\n",
       "      <td>0.833621</td>\n",
       "      <td>0.652975</td>\n",
       "      <td>0.795584</td>\n",
       "      <td>0.735103</td>\n",
       "      <td>0.849213</td>\n",
       "      <td>0.693988</td>\n",
       "      <td>0.737049</td>\n",
       "      <td>0.000000</td>\n",
       "      <td>0.762565</td>\n",
       "      <td>0.729547</td>\n",
       "      <td>...</td>\n",
       "      <td>0.821127</td>\n",
       "      <td>0.780454</td>\n",
       "      <td>0.746979</td>\n",
       "      <td>0.614344</td>\n",
       "      <td>0.788583</td>\n",
       "      <td>0.735496</td>\n",
       "      <td>0.769436</td>\n",
       "      <td>0.784994</td>\n",
       "      <td>0.702206</td>\n",
       "      <td>GlaxoSmithKline</td>\n",
       "    </tr>\n",
       "    <tr>\n",
       "      <th>MSFT</th>\n",
       "      <td>0.790888</td>\n",
       "      <td>0.554316</td>\n",
       "      <td>0.734174</td>\n",
       "      <td>0.692074</td>\n",
       "      <td>0.666573</td>\n",
       "      <td>0.685429</td>\n",
       "      <td>0.697253</td>\n",
       "      <td>0.762565</td>\n",
       "      <td>0.000000</td>\n",
       "      <td>0.678099</td>\n",
       "      <td>...</td>\n",
       "      <td>0.688737</td>\n",
       "      <td>0.694311</td>\n",
       "      <td>0.692466</td>\n",
       "      <td>0.555571</td>\n",
       "      <td>0.736870</td>\n",
       "      <td>0.532086</td>\n",
       "      <td>0.735424</td>\n",
       "      <td>0.778980</td>\n",
       "      <td>0.749316</td>\n",
       "      <td>Microsoft</td>\n",
       "    </tr>\n",
       "    <tr>\n",
       "      <th>KMB</th>\n",
       "      <td>0.784564</td>\n",
       "      <td>0.599246</td>\n",
       "      <td>0.698416</td>\n",
       "      <td>0.663448</td>\n",
       "      <td>0.790416</td>\n",
       "      <td>0.649507</td>\n",
       "      <td>0.733873</td>\n",
       "      <td>0.729547</td>\n",
       "      <td>0.678099</td>\n",
       "      <td>0.000000</td>\n",
       "      <td>...</td>\n",
       "      <td>0.734614</td>\n",
       "      <td>0.813260</td>\n",
       "      <td>0.654145</td>\n",
       "      <td>0.571387</td>\n",
       "      <td>0.725114</td>\n",
       "      <td>0.751429</td>\n",
       "      <td>0.678407</td>\n",
       "      <td>0.725782</td>\n",
       "      <td>0.768356</td>\n",
       "      <td>Kimberly-Clark</td>\n",
       "    </tr>\n",
       "  </tbody>\n",
       "</table>\n",
       "<p>10 rows × 61 columns</p>\n",
       "</div>"
      ],
      "text/plain": [
       "           COP       AXP       RTN        BA      AAPL       PEP       NAV  \\\n",
       "COP   0.000000  0.677778  0.791858  0.745889  0.776606  0.810188  0.777832   \n",
       "AXP   0.677778  0.000000  0.662390  0.613355  0.687350  0.599745  0.617417   \n",
       "RTN   0.791858  0.662390  0.000000  0.535160  0.781740  0.780530  0.707567   \n",
       "BA    0.745889  0.613355  0.535160  0.000000  0.756697  0.731223  0.635720   \n",
       "AAPL  0.776606  0.687350  0.781740  0.756697  0.000000  0.819035  0.721385   \n",
       "PEP   0.810188  0.599745  0.780530  0.731223  0.819035  0.000000  0.768944   \n",
       "NAV   0.777832  0.617417  0.707567  0.635720  0.721385  0.768944  0.000000   \n",
       "GSK   0.833621  0.652975  0.795584  0.735103  0.849213  0.693988  0.737049   \n",
       "MSFT  0.790888  0.554316  0.734174  0.692074  0.666573  0.685429  0.697253   \n",
       "KMB   0.784564  0.599246  0.698416  0.663448  0.790416  0.649507  0.733873   \n",
       "\n",
       "           GSK      MSFT       KMB        ...              XRX      YHOO  \\\n",
       "COP   0.833621  0.790888  0.784564        ...         0.808126  0.825326   \n",
       "AXP   0.652975  0.554316  0.599246        ...         0.621600  0.695421   \n",
       "RTN   0.795584  0.734174  0.698416        ...         0.755045  0.833343   \n",
       "BA    0.735103  0.692074  0.663448        ...         0.709159  0.799253   \n",
       "AAPL  0.849213  0.666573  0.790416        ...         0.742211  0.709198   \n",
       "PEP   0.693988  0.685429  0.649507        ...         0.730345  0.794847   \n",
       "NAV   0.737049  0.697253  0.733873        ...         0.705295  0.735201   \n",
       "GSK   0.000000  0.762565  0.729547        ...         0.821127  0.780454   \n",
       "MSFT  0.762565  0.000000  0.678099        ...         0.688737  0.694311   \n",
       "KMB   0.729547  0.678099  0.000000        ...         0.734614  0.813260   \n",
       "\n",
       "           XOM       JPM       MCD      CSCO       NOC      MDLZ        UN  \\\n",
       "COP   0.233509  0.714643  0.856983  0.831557  0.782784  0.858537  0.787320   \n",
       "AXP   0.562185  0.316582  0.645123  0.592243  0.656349  0.726950  0.647759   \n",
       "RTN   0.725928  0.634601  0.783466  0.769820  0.432693  0.791456  0.759210   \n",
       "BA    0.677725  0.587944  0.694031  0.688115  0.553318  0.719469  0.783348   \n",
       "AAPL  0.719759  0.682138  0.781909  0.659056  0.790031  0.850695  0.789173   \n",
       "PEP   0.682358  0.617271  0.771722  0.759850  0.761184  0.695950  0.718995   \n",
       "NAV   0.713090  0.591745  0.751651  0.711070  0.759652  0.830355  0.757356   \n",
       "GSK   0.746979  0.614344  0.788583  0.735496  0.769436  0.784994  0.702206   \n",
       "MSFT  0.692466  0.555571  0.736870  0.532086  0.735424  0.778980  0.749316   \n",
       "KMB   0.654145  0.571387  0.725114  0.751429  0.678407  0.725782  0.768356   \n",
       "\n",
       "               Company  \n",
       "COP     ConocoPhillips  \n",
       "AXP   American express  \n",
       "RTN           Raytheon  \n",
       "BA              Boeing  \n",
       "AAPL             Apple  \n",
       "PEP              Pepsi  \n",
       "NAV           Navistar  \n",
       "GSK    GlaxoSmithKline  \n",
       "MSFT         Microsoft  \n",
       "KMB     Kimberly-Clark  \n",
       "\n",
       "[10 rows x 61 columns]"
      ]
     },
     "execution_count": 12,
     "metadata": {},
     "output_type": "execute_result"
    }
   ],
   "source": [
    "corrMatrix = df.corr()\n",
    "diss = 1-corrMatrix\n",
    "diss['Company'] = symbol_dict.values()\n",
    "diss.head(10)"
   ]
  },
  {
   "cell_type": "markdown",
   "metadata": {
    "collapsed": true
   },
   "source": [
    "## Step 5: Transfer data to Spark and run K-means clustering in Spark"
   ]
  },
  {
   "cell_type": "code",
   "execution_count": 13,
   "metadata": {
    "collapsed": false
   },
   "outputs": [],
   "source": [
    "from pyspark.sql import SQLContext\n",
    "sqlContext = SQLContext(sc)"
   ]
  },
  {
   "cell_type": "code",
   "execution_count": 14,
   "metadata": {
    "collapsed": false
   },
   "outputs": [],
   "source": [
    "distance = sqlContext.createDataFrame(diss)"
   ]
  },
  {
   "cell_type": "code",
   "execution_count": 15,
   "metadata": {
    "collapsed": true
   },
   "outputs": [],
   "source": [
    "my_cols = distance.columns\n",
    "my_cols.remove('Company')"
   ]
  },
  {
   "cell_type": "code",
   "execution_count": 16,
   "metadata": {
    "collapsed": false
   },
   "outputs": [],
   "source": [
    "from pyspark.ml.feature import VectorAssembler\n",
    "assembler = VectorAssembler(\n",
    "    inputCols= my_cols,\n",
    "    outputCol=\"features\")"
   ]
  },
  {
   "cell_type": "code",
   "execution_count": 17,
   "metadata": {
    "collapsed": false
   },
   "outputs": [],
   "source": [
    "distance_kmeans = assembler.transform(distance).select(\"features\",\"Company\")"
   ]
  },
  {
   "cell_type": "code",
   "execution_count": 24,
   "metadata": {
    "collapsed": false
   },
   "outputs": [
    {
     "name": "stdout",
     "output_type": "stream",
     "text": [
      "+--------------------+----------------+\n",
      "|            features|         Company|\n",
      "+--------------------+----------------+\n",
      "|[0.0,0.6777782138...|  ConocoPhillips|\n",
      "|[0.67777821386654...|American express|\n",
      "|[0.79185823914858...|        Raytheon|\n",
      "|[0.74588905376222...|          Boeing|\n",
      "|[0.77660633987847...|           Apple|\n",
      "|[0.81018811567897...|           Pepsi|\n",
      "+--------------------+----------------+\n",
      "only showing top 6 rows\n",
      "\n"
     ]
    }
   ],
   "source": [
    "distance_kmeans.show(6)"
   ]
  },
  {
   "cell_type": "markdown",
   "metadata": {},
   "source": [
    "## Step 6: Run a K-means model"
   ]
  },
  {
   "cell_type": "code",
   "execution_count": 19,
   "metadata": {
    "collapsed": false
   },
   "outputs": [],
   "source": [
    "from pyspark.ml.clustering import KMeans\n",
    "kmeans = KMeans(k=10, tol=1e-6, maxIter=100)"
   ]
  },
  {
   "cell_type": "code",
   "execution_count": 20,
   "metadata": {
    "collapsed": false
   },
   "outputs": [
    {
     "data": {
      "text/plain": [
       "DataFrame[features: vector, Company: string]"
      ]
     },
     "execution_count": 20,
     "metadata": {},
     "output_type": "execute_result"
    }
   ],
   "source": [
    "distance_kmeans.cache()"
   ]
  },
  {
   "cell_type": "code",
   "execution_count": 21,
   "metadata": {
    "collapsed": true
   },
   "outputs": [],
   "source": [
    "model = kmeans.fit(distance_kmeans)"
   ]
  },
  {
   "cell_type": "code",
   "execution_count": 22,
   "metadata": {
    "collapsed": true
   },
   "outputs": [],
   "source": [
    "transformed = model.transform(distance_kmeans).select(\"prediction\", \"Company\")"
   ]
  },
  {
   "cell_type": "markdown",
   "metadata": {},
   "source": [
    "## Step 7: Show predicted clusters"
   ]
  },
  {
   "cell_type": "code",
   "execution_count": 23,
   "metadata": {
    "collapsed": false
   },
   "outputs": [
    {
     "name": "stdout",
     "output_type": "stream",
     "text": [
      "+----------+-----------------+\n",
      "|prediction|          Company|\n",
      "+----------+-----------------+\n",
      "|         0|   Kimberly-Clark|\n",
      "|         0|   Procter Gamble|\n",
      "|         0|       Home Depot|\n",
      "|         0|         Wal-Mart|\n",
      "|         1|             Sony|\n",
      "|         1|            Canon|\n",
      "|         1|            Honda|\n",
      "|         1|           Toyota|\n",
      "|         1|       Mitsubishi|\n",
      "|         2|         Novartis|\n",
      "|         2|            Pepsi|\n",
      "|         2|   Sanofi-Aventis|\n",
      "|         2|        Coca Cola|\n",
      "|         2|  GlaxoSmithKline|\n",
      "|         2|          Kellogg|\n",
      "|         2|           Pfizer|\n",
      "|         3|      Kraft Foods|\n",
      "|         3|Colgate-Palmolive|\n",
      "|         3|         Unilever|\n",
      "|         4| Northrop Grumman|\n",
      "|         4|               3M|\n",
      "|         4|           Boeing|\n",
      "|         4|             Ford|\n",
      "|         4|         Marriott|\n",
      "|         4|         Raytheon|\n",
      "|         4|      Caterpillar|\n",
      "|         4|            Ryder|\n",
      "|         4|         Navistar|\n",
      "|         4| General Dynamics|\n",
      "|         5|            Total|\n",
      "|         5|   ConocoPhillips|\n",
      "|         5|          Chevron|\n",
      "|         5|    Valero Energy|\n",
      "|         5|            Exxon|\n",
      "|         6|  Lookheed Martin|\n",
      "|         6|         Walgreen|\n",
      "|         6|              CVS|\n",
      "|         7|Texas instruments|\n",
      "|         7|             Dell|\n",
      "|         7|        Microsoft|\n",
      "|         7|            Xerox|\n",
      "|         7|            Cisco|\n",
      "|         7|              SAP|\n",
      "|         7|              IBM|\n",
      "|         8|           Amazon|\n",
      "|         8|            Yahoo|\n",
      "|         8|          Comcast|\n",
      "|         8|               HP|\n",
      "|         8|            Apple|\n",
      "|         8|      Time Warner|\n",
      "|         8|       Mc Donalds|\n",
      "|         9| American express|\n",
      "|         9|   JPMorgan Chase|\n",
      "|         9|General Electrics|\n",
      "|         9|    Goldman Sachs|\n",
      "|         9|      Wells Fargo|\n",
      "|         9|           Disney|\n",
      "|         9|DuPont de Nemours|\n",
      "|         9|        CitiGroup|\n",
      "|         9|  Bank of America|\n",
      "+----------+-----------------+\n",
      "\n"
     ]
    }
   ],
   "source": [
    "transformed.orderBy(\"prediction\").show(60)"
   ]
  },
  {
   "cell_type": "code",
   "execution_count": null,
   "metadata": {
    "collapsed": true
   },
   "outputs": [],
   "source": []
  }
 ],
 "metadata": {
  "kernelspec": {
   "display_name": "Python [Root]",
   "language": "python",
   "name": "Python [Root]"
  }
 },
 "nbformat": 4,
 "nbformat_minor": 0
}
