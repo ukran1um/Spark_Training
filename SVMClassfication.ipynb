{
 "cells": [
  {
   "cell_type": "code",
   "execution_count": 1,
   "metadata": {
    "collapsed": false
   },
   "outputs": [
    {
     "name": "stdout",
     "output_type": "stream",
     "text": [
      "/Users/egorkharakozov/spark-2.0.0-bin-hadoop2.7/data/mllib/sample_svm_data.txt\n"
     ]
    }
   ],
   "source": [
    "input = os.environ['SPARK_HOME'] + \"/data/mllib/sample_svm_data.txt\"\n",
    "mymodelpath = os.getcwd() + \"/test/modelpath\"\n",
    "print input"
   ]
  },
  {
   "cell_type": "code",
   "execution_count": 2,
   "metadata": {
    "collapsed": true
   },
   "outputs": [],
   "source": [
    "from pyspark.mllib.classification import SVMWithSGD, SVMModel\n",
    "from pyspark.mllib.regression import LabeledPoint\n",
    "import numpy as np"
   ]
  },
  {
   "cell_type": "code",
   "execution_count": 3,
   "metadata": {
    "collapsed": true
   },
   "outputs": [],
   "source": [
    "# Load and parse the data\n",
    "def parsePoint(line):\n",
    "    values = [float(x) for x in line.split(' ')]\n",
    "    return LabeledPoint(values[0], values[1:])\n",
    "\n",
    "data = sc.textFile(input)\n",
    "parsedData = data.map(parsePoint)"
   ]
  },
  {
   "cell_type": "code",
   "execution_count": 4,
   "metadata": {
    "collapsed": false
   },
   "outputs": [
    {
     "name": "stdout",
     "output_type": "stream",
     "text": [
      "1.11.2\n",
      "['/Users/egorkharakozov/anaconda/lib/python2.7/site-packages/numpy']\n"
     ]
    }
   ],
   "source": [
    "\n",
    "#It looks like you have two versions of numpy installed and pyspark is importing the older one. To confirm this, you can do the following:\n",
    "\n",
    "import numpy\n",
    "print numpy.__version__\n",
    "print numpy.__path__"
   ]
  },
  {
   "cell_type": "code",
   "execution_count": 5,
   "metadata": {
    "collapsed": false
   },
   "outputs": [
    {
     "data": {
      "text/plain": [
       "{'SPARK_HOME': '/Users/egorkharakozov/spark-2.0.0-bin-hadoop2.7', 'TERM_PROGRAM_VERSION': '361.1', 'LOGNAME': 'egorkharakozov', 'USER': 'egorkharakozov', 'PYSPARK_SUBMIT_ARGS': '\"--name\" \"PySparkShell\" \"pyspark-shell\"', 'HOME': '/Users/egorkharakozov', 'PATH': '/opt/local/bin:/opt/local/sbin:/Users/egorkharakozov/anaconda/bin:/Library/Frameworks/Python.framework/Versions/2.7/bin:/usr/local/bin:/usr/bin:/bin:/usr/sbin:/sbin:/usr/local/git/bin', 'TERM_PROGRAM': 'Apple_Terminal', 'LANG': 'en_US.UTF-8', 'TERM': 'xterm-color', 'Apple_PubSub_Socket_Render': '/private/tmp/com.apple.launchd.VBLJPgdoZs/Render', 'SHLVL': '2', 'XPC_FLAGS': '0x0', 'OLD_PYTHONSTARTUP': '', 'PYSPARK_DRIVER_PYTHON': '/Users/egorkharakozov/anaconda/pkgs/', '_': '/Users/egorkharakozov/anaconda/python.app/Contents/MacOS/python', 'PYTHONHASHSEED': '0', 'TERM_SESSION_ID': '1FEE180C-B354-445F-B62D-20BF8C2A2FC8', 'XPC_SERVICE_NAME': '0', 'JPY_PARENT_PID': '2043', 'PYTHONPATH': '/Users/egorkharakozov/spark-2.0.0-bin-hadoop2.7/python/lib/py4j-0.10.1-src.zip:/Users/egorkharakozov/spark-2.0.0-bin-hadoop2.7/python/:', 'SSH_AUTH_SOCK': '/private/tmp/com.apple.launchd.vUqukjgHXW/Listeners', 'SPARK_SCALA_VERSION': '2.10', 'SHELL': '/bin/bash', 'GIT_PAGER': 'cat', 'TMPDIR': '/var/folders/jj/8tsbytb54f3_sfgwjgqfkbx80000gn/T/', '_SPARK_CMD_USAGE': 'Usage: ./bin/pyspark [options]', 'PYTHONSTARTUP': '/Users/egorkharakozov/spark-2.0.0-bin-hadoop2.7/python/pyspark/shell.py', 'PYSPARK_DRIVER_PYTHON_OPTS': 'notebook', 'CLICOLOR': '1', '__CF_USER_TEXT_ENCODING': '0x1F5:0x0:0x0', 'PWD': '/Users/egorkharakozov', 'SPARK_ENV_LOADED': '1', 'PYSPARK_PYTHON': '/Users/egorkharakozov/anaconda/bin/python2.7', 'PAGER': 'cat'}"
      ]
     },
     "execution_count": 5,
     "metadata": {},
     "output_type": "execute_result"
    }
   ],
   "source": [
    "os.environ['PYSPARK_DRIVER_PYTHON'] = \"/Users/egorkharakozov/anaconda/pkgs/\"\n",
    "os.environ[\"PYSPARK_PYTHON\"] = \"/Users/egorkharakozov/anaconda/bin/python2.7\"\n",
    "\n",
    "os.environ"
   ]
  },
  {
   "cell_type": "code",
   "execution_count": 6,
   "metadata": {
    "collapsed": false
   },
   "outputs": [],
   "source": [
    "import os\n",
    "import sys\n",
    "import pandas as pd\n",
    "#os.environ[\"PYTHONPATH\"] = \"/Users/egorkharakozov/anaconda/lib/python2.7/site-packages/ipykernel/resources\"\n"
   ]
  },
  {
   "cell_type": "code",
   "execution_count": 5,
   "metadata": {
    "collapsed": false,
    "scrolled": false
   },
   "outputs": [],
   "source": [
    "# Build the mod\n",
    "model = SVMWithSGD.train(parsedData, iterations=100)"
   ]
  },
  {
   "cell_type": "code",
   "execution_count": 6,
   "metadata": {
    "collapsed": false
   },
   "outputs": [
    {
     "name": "stdout",
     "output_type": "stream",
     "text": [
      "Training Error = 0.38198757764\n"
     ]
    }
   ],
   "source": [
    "# Evaluating the model on training data\n",
    "labelsAndPreds = parsedData.map(lambda p: (p.label, model.predict(p.features)))\n",
    "trainErr = labelsAndPreds.filter(lambda (v, p): v != p).count() / float(parsedData.count())\n",
    "print(\"Training Error = \" + str(trainErr))"
   ]
  },
  {
   "cell_type": "code",
   "execution_count": 7,
   "metadata": {
    "collapsed": false
   },
   "outputs": [],
   "source": [
    "# Save and load model\n",
    "model.save(sc, mymodelpath)\n",
    "sameModel = SVMModel.load(sc, mymodelpath)"
   ]
  },
  {
   "cell_type": "code",
   "execution_count": 8,
   "metadata": {
    "collapsed": false
   },
   "outputs": [
    {
     "data": {
      "text/plain": [
       "['data', 'metadata']"
      ]
     },
     "execution_count": 8,
     "metadata": {},
     "output_type": "execute_result"
    }
   ],
   "source": [
    "os.listdir(mymodelpath)"
   ]
  },
  {
   "cell_type": "code",
   "execution_count": null,
   "metadata": {
    "collapsed": true
   },
   "outputs": [],
   "source": []
  }
 ],
 "metadata": {
  "anaconda-cloud": {},
  "kernelspec": {
   "display_name": "Python [Root]",
   "language": "python",
   "name": "Python [Root]"
  },
  "language_info": {
   "codemirror_mode": {
    "name": "ipython",
    "version": 2
   },
   "file_extension": ".py",
   "mimetype": "text/x-python",
   "name": "python",
   "nbconvert_exporter": "python",
   "pygments_lexer": "ipython2",
   "version": "2.7.12"
  }
 },
 "nbformat": 4,
 "nbformat_minor": 0
}
